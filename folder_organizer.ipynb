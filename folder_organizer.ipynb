{
  "cells": [
    {
      "cell_type": "code",
      "execution_count": 10,
      "metadata": {
        "id": "Mdu7TeWssX7Q"
      },
      "outputs": [],
      "source": [
        "import os\n",
        "import shutil"
      ]
    },
    {
      "cell_type": "code",
      "execution_count": 11,
      "metadata": {
        "colab": {
          "base_uri": "https://localhost:8080/"
        },
        "id": "e8FMNj4brKBW",
        "outputId": "09909734-3c73-47f2-fe46-a5b27cbccc93"
      },
      "outputs": [],
      "source": [
        "\n",
        "\n",
        "source_dir = input(r\"Enter the source directory path : \").replace('\\\\', '/')\n",
        "dest_dir = input(r\"Enter the destination directory path : \").replace('\\\\', '/')\n",
        "\n",
        "extension_map = {\n",
        "    '.jpg': 'Images',\n",
        "    '.png': 'Images',\n",
        "    '.gif': 'Images',\n",
        "    '.jpeg': 'Images',\n",
        "    '.pdf': 'PDF Files',\n",
        "    '.txt': 'Text Files',\n",
        "    '.docx': 'Word Document',\n",
        "    '.rtf': 'Word Document',\n",
        "    '.xlsx': 'Excel Files',\n",
        "    '.pptx': 'PowerPoint Persentations',\n",
        "    '.ppt': 'PowerPoint Persentations',\n",
        "    '.mp3': 'Audio',\n",
        "    '.wav': 'Audio',\n",
        "    '.mp4': 'Video',\n",
        "    '.m4a': 'Audio',\n",
        "    '.avi': 'Video',\n",
        "    '.exe': 'Executable Files',\n",
        "    '.py': 'Python Files',\n",
        "    '.cpp': 'C++ Files',\n",
        "    '.c': 'C Files',\n",
        "    '.java': 'Java Files',\n",
        "    '.html': 'HTML Files',\n",
        "    '.css': 'CSS Files',\n",
        "    '.js': 'Javascript Files',\n",
        "    '.zip': 'Zip_Files',\n",
        "    '.csv':'Comma-Separated Values File'\n",
        "}\n",
        "\n"
      ]
    },
    {
      "cell_type": "code",
      "execution_count": 12,
      "metadata": {
        "colab": {
          "base_uri": "https://localhost:8080/"
        },
        "id": "ht0IKI_ttTHO",
        "outputId": "da1d7087-39c0-4e8e-c07f-e0e259badded"
      },
      "outputs": [
        {
          "name": "stdout",
          "output_type": "stream",
          "text": [
            "D:/E/projects/file_organ/src\n",
            "D:/E/projects/file_organ/dest\n"
          ]
        }
      ],
      "source": [
        "print(source_dir)\n",
        "print(dest_dir)"
      ]
    },
    {
      "cell_type": "code",
      "execution_count": 13,
      "metadata": {
        "id": "45X0O4WtrrA3"
      },
      "outputs": [],
      "source": [
        "for folder_name in set(extension_map.values()):\n",
        "    os.makedirs(os.path.join(dest_dir, folder_name), exist_ok=True)\n",
        "\n",
        "\n",
        "for filename in os.listdir(source_dir):\n",
        "    file_ext = os.path.splitext(filename)[-1].lower()\n",
        "\n",
        "    if file_ext in extension_map:\n",
        "        src_path = os.path.join(source_dir, filename)\n",
        "        dest_path = os.path.join(dest_dir, extension_map[file_ext], filename)\n",
        "        shutil.move(src_path, dest_path)"
      ]
    }
  ],
  "metadata": {
    "colab": {
      "provenance": []
    },
    "kernelspec": {
      "display_name": "Python 3",
      "name": "python3"
    },
    "language_info": {
      "codemirror_mode": {
        "name": "ipython",
        "version": 3
      },
      "file_extension": ".py",
      "mimetype": "text/x-python",
      "name": "python",
      "nbconvert_exporter": "python",
      "pygments_lexer": "ipython3",
      "version": "3.9.13"
    }
  },
  "nbformat": 4,
  "nbformat_minor": 0
}
